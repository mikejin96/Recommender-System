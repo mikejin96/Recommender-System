{
 "cells": [
  {
   "cell_type": "markdown",
   "metadata": {},
   "source": [
    "## Load Data"
   ]
  },
  {
   "cell_type": "code",
   "execution_count": 414,
   "metadata": {},
   "outputs": [],
   "source": [
    "import pandas as pd\n",
    "import numpy as np\n",
    "from scipy import optimize\n",
    "from timeit import default_timer as timer\n",
    "import re\n",
    "import matplotlib.pyplot as plt\n",
    "from sklearn.model_selection import train_test_split\n",
    "from sklearn.ensemble import RandomForestRegressor\n",
    "from sklearn.model_selection import RandomizedSearchCV\n",
    "from sklearn import metrics"
   ]
  },
  {
   "cell_type": "code",
   "execution_count": 4,
   "metadata": {},
   "outputs": [],
   "source": [
    "data_dir = '../Data/ml-latest-small'\n",
    "ratings = pd.read_csv(f'{data_dir}/ratings.csv')\n",
    "movies = pd.read_csv(f'{data_dir}/movies.csv')\n",
    "tags = pd.read_csv(f'{data_dir}/tags.csv')\n",
    "links = pd.read_csv(f'{data_dir}/links.csv')"
   ]
  },
  {
   "cell_type": "code",
   "execution_count": 123,
   "metadata": {},
   "outputs": [],
   "source": [
    "ratings_matrix = ratings.pivot(index='userId', columns='movieId', values='rating').fillna(0).values"
   ]
  },
  {
   "cell_type": "code",
   "execution_count": 124,
   "metadata": {},
   "outputs": [],
   "source": [
    "count = ratings.groupby('movieId').count()['userId'].rename('num_rating').reset_index()\n",
    "count = pd.DataFrame(count)\n",
    "movie_id = count[count['num_rating'] >= 20]['movieId']\n",
    "ratings_subset = ratings[ratings['movieId'].isin(movie_id)]\n",
    "ratings_subset_matrix = ratings_subset.pivot(index='userId', columns='movieId', values='rating').fillna(0).values"
   ]
  },
  {
   "cell_type": "markdown",
   "metadata": {},
   "source": [
    "## Train-Validation-Test Split"
   ]
  },
  {
   "cell_type": "code",
   "execution_count": 218,
   "metadata": {},
   "outputs": [],
   "source": [
    "# labeled indices of the original matrix\n",
    "label_idx = np.asarray(np.where(ratings_subset_matrix > 0)).T\n",
    "num_label = len(label_idx)\n",
    "row, col = ratings_subset_matrix.shape\n",
    "# training and validation set\n",
    "train_val_len = int(num_label * 0.8)\n",
    "train_val_split = np.random.choice(num_label, train_val_len, replace=False)\n",
    "train_val_idx = label_idx[train_val_split]\n",
    "train_val_matrix = np.zeros([row, col])\n",
    "for i in range(len(train_val_idx)):\n",
    "    r, c = train_val_idx[i]\n",
    "    train_val_matrix[r, c] = ratings_subset_matrix[r, c]\n",
    "# training set\n",
    "num_train_val = len(train_val_idx)\n",
    "train_len = int(num_train_val * 0.8)\n",
    "train_split = np.random.choice(num_train_val, train_len, replace=False)\n",
    "train_idx = train_val_idx[train_split]\n",
    "train_matrix = np.zeros([row, col])\n",
    "for i in range(len(train_idx)):\n",
    "    r, c = train_idx[i]\n",
    "    train_matrix[r, c] = ratings_subset_matrix[r, c]\n",
    "# validation set\n",
    "val_split = np.setdiff1d([i for i in range(num_train_val)], train_split)\n",
    "val_idx = train_val_idx[val_split]\n",
    "val_matrix = np.zeros([row, col])\n",
    "for i in range(len(val_idx)):\n",
    "    r, c = val_idx[i]\n",
    "    val_matrix[r, c] = ratings_subset_matrix[r, c]\n",
    "# test set\n",
    "test_split = np.setdiff1d([i for i in range(num_label)], train_val_split)\n",
    "test_idx = label_idx[test_split]\n",
    "test_matrix = np.zeros([row, col])\n",
    "for i in range(len(test_idx)):\n",
    "    r, c = test_idx[i]\n",
    "    test_matrix[r, c] = ratings_subset_matrix[r, c]"
   ]
  },
  {
   "cell_type": "markdown",
   "metadata": {},
   "source": [
    "## Matrix Completion Algorithm"
   ]
  },
  {
   "cell_type": "code",
   "execution_count": 88,
   "metadata": {},
   "outputs": [],
   "source": [
    "def loss(output, matrix, U, V, label_idx, penalty, index, update_u=True):\n",
    "    if update_u:\n",
    "        label_pair = label_idx[label_idx[:, 0] == index]\n",
    "        cost = penalty/2 * sum(np.square(output))\n",
    "        for j in range(label_pair.shape[0]):\n",
    "            row, col = label_pair[j]\n",
    "            cost += 1/2 * ((matrix[row, col] - np.dot(output, V[col])) ** 2)\n",
    "    else:\n",
    "        label_pair = label_idx[label_idx[:, 1] == index]\n",
    "        cost = penalty/2 * sum(np.square(output))\n",
    "        for j in range(label_pair.shape[0]):\n",
    "            row, col = label_pair[j]\n",
    "            cost += 1/2 * ((matrix[row, col] - np.dot(U[row], output)) ** 2)\n",
    "    return cost"
   ]
  },
  {
   "cell_type": "code",
   "execution_count": 293,
   "metadata": {},
   "outputs": [],
   "source": [
    "def matrix_factorization(matrix, k=2, penalty=0.1, iteration=1):\n",
    "    # record labeled indices of the original matrix\n",
    "    label_idx = np.asarray(np.where(matrix > 0)).T\n",
    "    \n",
    "    # initialize V randomly and initialize U as zero matrix\n",
    "    n, m = matrix.shape\n",
    "    V = np.random.rand(m, k)\n",
    "    U = np.zeros([n, k])\n",
    "    \n",
    "    for iters in range(iteration):\n",
    "        converge = False\n",
    "        prev_U = U.copy()\n",
    "        prev_V = V.copy()\n",
    "        \n",
    "        start = timer()\n",
    "        \n",
    "        # update U first\n",
    "        for i in range(n):\n",
    "            output = optimize.fmin(loss, U[i], args=(matrix, U, V, label_idx, penalty, i, True), disp=False)\n",
    "            U[i] = output\n",
    "        sum_diff = (np.square(U - prev_U)).sum()\n",
    "        if sum_diff <= 1:\n",
    "            converge = True\n",
    "    \n",
    "        # then update V\n",
    "        for i in range(m):\n",
    "            output = optimize.fmin(loss, V[i], args=(matrix, U, V, label_idx, penalty, i, False), disp=False)\n",
    "            V[i] = output\n",
    "        sum_diff = (np.square(V - prev_V)).sum()\n",
    "        if sum_diff >= 1:\n",
    "            converge = False\n",
    "        \n",
    "        print('Iteration', iters, 'total time:', round(timer() - start, 2), 'seconds')\n",
    "        \n",
    "        if converge == True:\n",
    "            print('Converges at iteration', iters)\n",
    "            break\n",
    "    \n",
    "    return U, V"
   ]
  },
  {
   "cell_type": "markdown",
   "metadata": {},
   "source": [
    "## Training and Validation"
   ]
  },
  {
   "cell_type": "code",
   "execution_count": 294,
   "metadata": {},
   "outputs": [],
   "source": [
    "def matrix_MAE(pred_matrix, target_matrix):\n",
    "    label_idx = np.asarray(np.where(target_matrix > 0)).T\n",
    "    num_label = len(label_idx)\n",
    "    total_error = 0\n",
    "    for i in range(num_label):\n",
    "        row, col = label_idx[i]\n",
    "        total_error += np.abs(pred_matrix[row, col] - target_matrix[row, col])\n",
    "    return total_error / num_label"
   ]
  },
  {
   "cell_type": "code",
   "execution_count": 295,
   "metadata": {},
   "outputs": [],
   "source": [
    "def validation(train_matrix, val_matrix, k, iteration, lambdas):\n",
    "    train_error_list = []\n",
    "    val_error_list = []\n",
    "    best_val_error = 10000\n",
    "    best_lambda = 0\n",
    "    for penalty in lambdas:\n",
    "        print('------ New Validation ------')\n",
    "        U, V = matrix_factorization(train_matrix, k, penalty, iteration)\n",
    "        pred_matrix = np.matmul(U, V.T)\n",
    "        train_error = matrix_MAE(pred_matrix, train_matrix)\n",
    "        train_error_list.append(train_error)\n",
    "        val_error = matrix_MAE(pred_matrix, val_matrix)\n",
    "        val_error_list.append(val_error)\n",
    "        if val_error < best_val_error:\n",
    "            best_val_error = val_error\n",
    "            best_lambda = penalty\n",
    "        print('Lambda is', penalty, 'Validation MAE :', round(val_error, 4))\n",
    "    return best_lambda, train_error_list, val_error_list"
   ]
  },
  {
   "cell_type": "code",
   "execution_count": 296,
   "metadata": {},
   "outputs": [
    {
     "name": "stdout",
     "output_type": "stream",
     "text": [
      "------ New Validation ------\n",
      "Iteration 0 total time: 310.37 seconds\n",
      "Iteration 1 total time: 131.37 seconds\n",
      "Iteration 2 total time: 119.91 seconds\n",
      "Iteration 3 total time: 113.48 seconds\n",
      "Iteration 4 total time: 107.98 seconds\n",
      "Iteration 5 total time: 105.38 seconds\n",
      "Iteration 6 total time: 102.65 seconds\n",
      "Iteration 7 total time: 100.51 seconds\n",
      "Iteration 8 total time: 98.83 seconds\n",
      "Iteration 9 total time: 98.19 seconds\n",
      "Lambda is 0.01 Validation MAE : 0.7953\n",
      "------ New Validation ------\n",
      "Iteration 0 total time: 314.16 seconds\n",
      "Iteration 1 total time: 135.17 seconds\n",
      "Iteration 2 total time: 120.41 seconds\n",
      "Iteration 3 total time: 114.67 seconds\n",
      "Iteration 4 total time: 110.06 seconds\n",
      "Iteration 5 total time: 107.5 seconds\n",
      "Iteration 6 total time: 106.3 seconds\n",
      "Iteration 7 total time: 104.48 seconds\n",
      "Iteration 8 total time: 101.75 seconds\n",
      "Iteration 9 total time: 100.41 seconds\n",
      "Lambda is 0.05 Validation MAE : 0.7813\n",
      "------ New Validation ------\n",
      "Iteration 0 total time: 313.11 seconds\n",
      "Iteration 1 total time: 132.29 seconds\n",
      "Iteration 2 total time: 119.43 seconds\n",
      "Iteration 3 total time: 112.53 seconds\n",
      "Iteration 4 total time: 108.12 seconds\n",
      "Iteration 5 total time: 106.02 seconds\n",
      "Iteration 6 total time: 104.0 seconds\n",
      "Iteration 7 total time: 103.53 seconds\n",
      "Iteration 8 total time: 100.81 seconds\n",
      "Iteration 9 total time: 99.67 seconds\n",
      "Lambda is 0.1 Validation MAE : 0.7519\n",
      "------ New Validation ------\n",
      "Iteration 0 total time: 311.56 seconds\n",
      "Iteration 1 total time: 131.2 seconds\n",
      "Iteration 2 total time: 117.25 seconds\n",
      "Iteration 3 total time: 110.68 seconds\n",
      "Iteration 4 total time: 107.23 seconds\n",
      "Iteration 5 total time: 104.91 seconds\n",
      "Iteration 6 total time: 101.76 seconds\n",
      "Iteration 7 total time: 99.61 seconds\n",
      "Iteration 8 total time: 98.17 seconds\n",
      "Iteration 9 total time: 96.59 seconds\n",
      "Lambda is 0.5 Validation MAE : 0.7123\n",
      "------ New Validation ------\n",
      "Iteration 0 total time: 313.52 seconds\n",
      "Iteration 1 total time: 131.36 seconds\n",
      "Iteration 2 total time: 116.09 seconds\n",
      "Iteration 3 total time: 110.13 seconds\n",
      "Iteration 4 total time: 105.6 seconds\n",
      "Iteration 5 total time: 102.65 seconds\n",
      "Iteration 6 total time: 100.47 seconds\n",
      "Iteration 7 total time: 98.49 seconds\n",
      "Iteration 8 total time: 97.01 seconds\n",
      "Iteration 9 total time: 96.4 seconds\n",
      "Lambda is 1 Validation MAE : 0.6923\n"
     ]
    }
   ],
   "source": [
    "lambdas = [0.01, 0.05, 0.1, 0.5, 1]\n",
    "best_lambda, train_error_list, val_error_list = validation(train_matrix, val_matrix, 5, 10, lambdas)"
   ]
  },
  {
   "cell_type": "code",
   "execution_count": 298,
   "metadata": {},
   "outputs": [
    {
     "name": "stdout",
     "output_type": "stream",
     "text": [
      "------ New Validation ------\n",
      "Iteration 0 total time: 320.42 seconds\n",
      "Iteration 1 total time: 120.38 seconds\n",
      "Iteration 2 total time: 113.54 seconds\n",
      "Iteration 3 total time: 109.17 seconds\n",
      "Iteration 4 total time: 107.38 seconds\n",
      "Iteration 5 total time: 103.78 seconds\n",
      "Iteration 6 total time: 103.46 seconds\n",
      "Iteration 7 total time: 100.88 seconds\n",
      "Iteration 8 total time: 100.52 seconds\n",
      "Iteration 9 total time: 98.4 seconds\n",
      "Lambda is 2 Validation MAE : 0.6775\n",
      "------ New Validation ------\n",
      "Iteration 0 total time: 329.07 seconds\n",
      "Iteration 1 total time: 120.02 seconds\n",
      "Iteration 2 total time: 110.69 seconds\n",
      "Iteration 3 total time: 106.85 seconds\n",
      "Iteration 4 total time: 105.57 seconds\n",
      "Iteration 5 total time: 104.97 seconds\n",
      "Iteration 6 total time: 103.97 seconds\n",
      "Iteration 7 total time: 100.71 seconds\n",
      "Iteration 8 total time: 98.39 seconds\n",
      "Iteration 9 total time: 96.1 seconds\n",
      "Lambda is 3 Validation MAE : 0.6748\n",
      "------ New Validation ------\n",
      "Iteration 0 total time: 320.2 seconds\n",
      "Iteration 1 total time: 114.4 seconds\n",
      "Iteration 2 total time: 106.34 seconds\n",
      "Iteration 3 total time: 104.76 seconds\n",
      "Iteration 4 total time: 102.27 seconds\n",
      "Iteration 5 total time: 99.62 seconds\n",
      "Iteration 6 total time: 98.32 seconds\n",
      "Iteration 7 total time: 95.93 seconds\n",
      "Iteration 8 total time: 95.85 seconds\n",
      "Iteration 9 total time: 93.64 seconds\n",
      "Lambda is 4 Validation MAE : 0.6687\n",
      "------ New Validation ------\n",
      "Iteration 0 total time: 314.45 seconds\n",
      "Iteration 1 total time: 113.2 seconds\n",
      "Iteration 2 total time: 102.87 seconds\n",
      "Iteration 3 total time: 102.21 seconds\n",
      "Iteration 4 total time: 98.35 seconds\n",
      "Iteration 5 total time: 96.66 seconds\n",
      "Iteration 6 total time: 95.63 seconds\n",
      "Iteration 7 total time: 93.48 seconds\n",
      "Iteration 8 total time: 90.49 seconds\n",
      "Iteration 9 total time: 91.2 seconds\n",
      "Lambda is 5 Validation MAE : 0.6688\n"
     ]
    }
   ],
   "source": [
    "lambdas2 = [2, 3, 4, 5]\n",
    "best_lambda2, train_error_list2, val_error_list2 = validation(train_matrix, val_matrix, 5, 10, lambdas2)"
   ]
  },
  {
   "cell_type": "code",
   "execution_count": 435,
   "metadata": {},
   "outputs": [
    {
     "name": "stdout",
     "output_type": "stream",
     "text": [
      "------ New Validation ------\n",
      "Iteration 0 total time: 318.7 seconds\n",
      "Iteration 1 total time: 110.75 seconds\n",
      "Iteration 2 total time: 101.82 seconds\n",
      "Iteration 3 total time: 100.18 seconds\n",
      "Iteration 4 total time: 98.87 seconds\n",
      "Iteration 5 total time: 96.8 seconds\n",
      "Iteration 6 total time: 94.83 seconds\n",
      "Iteration 7 total time: 93.89 seconds\n",
      "Iteration 8 total time: 91.81 seconds\n",
      "Iteration 9 total time: 90.54 seconds\n",
      "Lambda is 6 Validation MAE : 0.6704\n",
      "------ New Validation ------\n",
      "Iteration 0 total time: 313.65 seconds\n",
      "Iteration 1 total time: 107.14 seconds\n",
      "Iteration 2 total time: 96.74 seconds\n",
      "Iteration 3 total time: 94.88 seconds\n",
      "Iteration 4 total time: 93.16 seconds\n",
      "Iteration 5 total time: 91.27 seconds\n",
      "Iteration 6 total time: 90.62 seconds\n",
      "Iteration 7 total time: 89.69 seconds\n",
      "Iteration 8 total time: 87.78 seconds\n",
      "Iteration 9 total time: 85.24 seconds\n",
      "Lambda is 8 Validation MAE : 0.6822\n",
      "------ New Validation ------\n",
      "Iteration 0 total time: 310.5 seconds\n",
      "Iteration 1 total time: 102.88 seconds\n",
      "Iteration 2 total time: 93.85 seconds\n",
      "Iteration 3 total time: 91.5 seconds\n",
      "Iteration 4 total time: 88.5 seconds\n",
      "Iteration 5 total time: 87.83 seconds\n",
      "Iteration 6 total time: 88.49 seconds\n",
      "Iteration 7 total time: 86.87 seconds\n",
      "Iteration 8 total time: 83.08 seconds\n",
      "Iteration 9 total time: 79.7 seconds\n",
      "Lambda is 10 Validation MAE : 0.7001\n",
      "------ New Validation ------\n",
      "Iteration 0 total time: 313.75 seconds\n",
      "Iteration 1 total time: 101.87 seconds\n",
      "Iteration 2 total time: 91.4 seconds\n",
      "Iteration 3 total time: 88.66 seconds\n",
      "Iteration 4 total time: 86.28 seconds\n",
      "Iteration 5 total time: 84.02 seconds\n",
      "Iteration 6 total time: 82.92 seconds\n",
      "Iteration 7 total time: 78.9 seconds\n",
      "Iteration 8 total time: 76.41 seconds\n",
      "Iteration 9 total time: 74.42 seconds\n",
      "Converges at iteration 9\n",
      "Lambda is 12 Validation MAE : 0.7189\n"
     ]
    }
   ],
   "source": [
    "lambdas3 = [6, 8, 10, 12]\n",
    "best_lambda3, train_error_list3, val_error_list3 = validation(train_matrix, val_matrix, 5, 10, lambdas3)"
   ]
  },
  {
   "cell_type": "code",
   "execution_count": 305,
   "metadata": {},
   "outputs": [
    {
     "name": "stdout",
     "output_type": "stream",
     "text": [
      "Iteration 0 total time: 380.47 seconds\n",
      "Iteration 1 total time: 144.36 seconds\n",
      "Iteration 2 total time: 130.19 seconds\n",
      "Iteration 3 total time: 125.72 seconds\n",
      "Iteration 4 total time: 120.34 seconds\n",
      "Iteration 5 total time: 120.97 seconds\n",
      "Iteration 6 total time: 117.54 seconds\n",
      "Iteration 7 total time: 114.45 seconds\n",
      "Iteration 8 total time: 111.02 seconds\n",
      "Iteration 9 total time: 111.56 seconds\n"
     ]
    }
   ],
   "source": [
    "U, V = matrix_factorization(train_val_matrix, k=5, penalty=4, iteration=10)"
   ]
  },
  {
   "cell_type": "code",
   "execution_count": 455,
   "metadata": {},
   "outputs": [
    {
     "data": {
      "image/png": "[encoded data removed]",
      "text/plain": [
       "<Figure size 576x432 with 1 Axes>"
      ]
     },
     "metadata": {
      "needs_background": "light"
     },
     "output_type": "display_data"
    }
   ],
   "source": [
    "plt.figure(figsize=[8,6])\n",
    "plt.plot(lambdas + lambdas2 + lambdas3, train_error_list + train_error_list2 + train_error_list3)\n",
    "plt.title('Training Error w.r.t. Lambdas', fontsize=20)\n",
    "plt.xlabel('Lambdas', fontsize=15)\n",
    "plt.ylabel('MAE', fontsize=15);"
   ]
  },
  {
   "cell_type": "code",
   "execution_count": 456,
   "metadata": {},
   "outputs": [
    {
     "data": {
      "image/png": "[encoded data removed]",
      "text/plain": [
       "<Figure size 576x432 with 1 Axes>"
      ]
     },
     "metadata": {
      "needs_background": "light"
     },
     "output_type": "display_data"
    }
   ],
   "source": [
    "plt.figure(figsize=[8,6])\n",
    "plt.plot(lambdas + lambdas2 + lambdas3, val_error_list + val_error_list2 + val_error_list3)\n",
    "plt.title('Validation Error w.r.t. Lambdas', fontsize=20)\n",
    "plt.xlabel('Lambdas', fontsize=15)\n",
    "plt.ylabel('MAE', fontsize=15);"
   ]
  },
  {
   "cell_type": "markdown",
   "metadata": {},
   "source": [
    "## Vanilla Model Performance"
   ]
  },
  {
   "cell_type": "code",
   "execution_count": 369,
   "metadata": {},
   "outputs": [
    {
     "name": "stdout",
     "output_type": "stream",
     "text": [
      "MAE of Training: 0.5448\n",
      "MAE of Testing: 0.6517\n"
     ]
    }
   ],
   "source": [
    "pred_matrix = np.matmul(U, V.T)\n",
    "train_mae = matrix_MAE(pred_matrix, train_val_matrix)\n",
    "test_mae = matrix_MAE(pred_matrix, test_matrix)\n",
    "print('MAE of Training:', round(train_mae, 4))\n",
    "print('MAE of Testing:', round(test_mae, 4))"
   ]
  },
  {
   "cell_type": "markdown",
   "metadata": {},
   "source": [
    "## Featurization for Ensemble Model"
   ]
  },
  {
   "cell_type": "code",
   "execution_count": 364,
   "metadata": {},
   "outputs": [],
   "source": [
    "def featurization(ratings, movies, subset=True):\n",
    "    ratings_copy = ratings.copy()\n",
    "    movies_copy = movies.copy()\n",
    "    \n",
    "    def release_year(title):\n",
    "        split1 = re.findall('\\([0-9]{4}\\)', title)\n",
    "        if len(split1) > 0:\n",
    "            split2 = int(re.findall('[0-9]{4}', split1[0])[0])\n",
    "            return split2\n",
    "        else:\n",
    "            return 9999\n",
    "    \n",
    "    movies_copy['year'] = [release_year(title) for title in movies_copy['title']]\n",
    "    movies_copy['before_1980'] = [1 if year < 1980 else 0 for year in movies_copy['year']]\n",
    "    movies_copy['1980_2000'] = [1 if year >= 1980 and year < 2000 else 0 for year in movies_copy['year']]\n",
    "    movies_copy['2000_2010'] = [1 if year >= 2000 and year < 2010 else 0 for year in movies_copy['year']]\n",
    "    movies_copy['after_2010'] = [1 if year >= 2010 and year < 9999 else 0 for year in movies_copy['year']]\n",
    "    movies_copy['genres'] = [genres.split('|') for genres in movies_copy['genres']]\n",
    "    genres = pd.get_dummies(movies_copy['genres'].apply(pd.Series).stack()).sum(level=0)\n",
    "    movies_copy = pd.concat([movies_copy, genres], axis=1)\n",
    "    \n",
    "    feature_df = pd.merge(ratings_copy, movies_copy, how='left', on='movieId')\n",
    "    feature_df = feature_df.drop(columns=['title', 'genres', 'year', 'timestamp'])\n",
    "    \n",
    "    if subset:\n",
    "        count = feature_df.groupby('movieId').count()['userId'].rename('num_rating').reset_index()\n",
    "        count = pd.DataFrame(count)\n",
    "        movie_id = count[count['num_rating'] >= 20]['movieId']\n",
    "        feature_df = feature_df[feature_df['movieId'].isin(movie_id)]\n",
    "    \n",
    "    movieid_dict = {}\n",
    "    sorted_id = sorted(feature_df['movieId'].unique())\n",
    "    for i in range(len(sorted_id)):\n",
    "        movieid_dict[sorted_id[i]] = i\n",
    "    feature_df['movieId'] = [movieid_dict[Id] for Id in feature_df['movieId']]\n",
    "    \n",
    "    feature_df['userId'] = [Id - 1 for Id in feature_df['userId']]\n",
    "    \n",
    "    return feature_df\n",
    "\n",
    "featurized_matrix = featurization(ratings, movies)"
   ]
  },
  {
   "cell_type": "code",
   "execution_count": 389,
   "metadata": {},
   "outputs": [
    {
     "data": {
      "text/html": [
       "<div>\n",
       "<style scoped>\n",
       "    .dataframe tbody tr th:only-of-type {\n",
       "        vertical-align: middle;\n",
       "    }\n",
       "\n",
       "    .dataframe tbody tr th {\n",
       "        vertical-align: top;\n",
       "    }\n",
       "\n",
       "    .dataframe thead th {\n",
       "        text-align: right;\n",
       "    }\n",
       "</style>\n",
       "<table border=\"1\" class=\"dataframe\">\n",
       "  <thead>\n",
       "    <tr style=\"text-align: right;\">\n",
       "      <th></th>\n",
       "      <th>userId</th>\n",
       "      <th>movieId</th>\n",
       "      <th>rating</th>\n",
       "      <th>before_1980</th>\n",
       "      <th>1980_2000</th>\n",
       "      <th>2000_2010</th>\n",
       "      <th>after_2010</th>\n",
       "      <th>(no genres listed)</th>\n",
       "      <th>Action</th>\n",
       "      <th>Adventure</th>\n",
       "      <th>...</th>\n",
       "      <th>Film-Noir</th>\n",
       "      <th>Horror</th>\n",
       "      <th>IMAX</th>\n",
       "      <th>Musical</th>\n",
       "      <th>Mystery</th>\n",
       "      <th>Romance</th>\n",
       "      <th>Sci-Fi</th>\n",
       "      <th>Thriller</th>\n",
       "      <th>War</th>\n",
       "      <th>Western</th>\n",
       "    </tr>\n",
       "  </thead>\n",
       "  <tbody>\n",
       "    <tr>\n",
       "      <th>0</th>\n",
       "      <td>0</td>\n",
       "      <td>0</td>\n",
       "      <td>4.0</td>\n",
       "      <td>0</td>\n",
       "      <td>1</td>\n",
       "      <td>0</td>\n",
       "      <td>0</td>\n",
       "      <td>0</td>\n",
       "      <td>0</td>\n",
       "      <td>1</td>\n",
       "      <td>...</td>\n",
       "      <td>0</td>\n",
       "      <td>0</td>\n",
       "      <td>0</td>\n",
       "      <td>0</td>\n",
       "      <td>0</td>\n",
       "      <td>0</td>\n",
       "      <td>0</td>\n",
       "      <td>0</td>\n",
       "      <td>0</td>\n",
       "      <td>0</td>\n",
       "    </tr>\n",
       "    <tr>\n",
       "      <th>1</th>\n",
       "      <td>0</td>\n",
       "      <td>2</td>\n",
       "      <td>4.0</td>\n",
       "      <td>0</td>\n",
       "      <td>1</td>\n",
       "      <td>0</td>\n",
       "      <td>0</td>\n",
       "      <td>0</td>\n",
       "      <td>0</td>\n",
       "      <td>0</td>\n",
       "      <td>...</td>\n",
       "      <td>0</td>\n",
       "      <td>0</td>\n",
       "      <td>0</td>\n",
       "      <td>0</td>\n",
       "      <td>0</td>\n",
       "      <td>1</td>\n",
       "      <td>0</td>\n",
       "      <td>0</td>\n",
       "      <td>0</td>\n",
       "      <td>0</td>\n",
       "    </tr>\n",
       "    <tr>\n",
       "      <th>2</th>\n",
       "      <td>0</td>\n",
       "      <td>4</td>\n",
       "      <td>4.0</td>\n",
       "      <td>0</td>\n",
       "      <td>1</td>\n",
       "      <td>0</td>\n",
       "      <td>0</td>\n",
       "      <td>0</td>\n",
       "      <td>1</td>\n",
       "      <td>0</td>\n",
       "      <td>...</td>\n",
       "      <td>0</td>\n",
       "      <td>0</td>\n",
       "      <td>0</td>\n",
       "      <td>0</td>\n",
       "      <td>0</td>\n",
       "      <td>0</td>\n",
       "      <td>0</td>\n",
       "      <td>1</td>\n",
       "      <td>0</td>\n",
       "      <td>0</td>\n",
       "    </tr>\n",
       "    <tr>\n",
       "      <th>3</th>\n",
       "      <td>0</td>\n",
       "      <td>24</td>\n",
       "      <td>5.0</td>\n",
       "      <td>0</td>\n",
       "      <td>1</td>\n",
       "      <td>0</td>\n",
       "      <td>0</td>\n",
       "      <td>0</td>\n",
       "      <td>0</td>\n",
       "      <td>0</td>\n",
       "      <td>...</td>\n",
       "      <td>0</td>\n",
       "      <td>0</td>\n",
       "      <td>0</td>\n",
       "      <td>0</td>\n",
       "      <td>1</td>\n",
       "      <td>0</td>\n",
       "      <td>0</td>\n",
       "      <td>1</td>\n",
       "      <td>0</td>\n",
       "      <td>0</td>\n",
       "    </tr>\n",
       "    <tr>\n",
       "      <th>4</th>\n",
       "      <td>0</td>\n",
       "      <td>26</td>\n",
       "      <td>5.0</td>\n",
       "      <td>0</td>\n",
       "      <td>1</td>\n",
       "      <td>0</td>\n",
       "      <td>0</td>\n",
       "      <td>0</td>\n",
       "      <td>0</td>\n",
       "      <td>0</td>\n",
       "      <td>...</td>\n",
       "      <td>0</td>\n",
       "      <td>0</td>\n",
       "      <td>0</td>\n",
       "      <td>0</td>\n",
       "      <td>1</td>\n",
       "      <td>0</td>\n",
       "      <td>0</td>\n",
       "      <td>1</td>\n",
       "      <td>0</td>\n",
       "      <td>0</td>\n",
       "    </tr>\n",
       "  </tbody>\n",
       "</table>\n",
       "<p>5 rows × 27 columns</p>\n",
       "</div>"
      ],
      "text/plain": [
       "   userId  movieId  rating  before_1980  1980_2000  2000_2010  after_2010  \\\n",
       "0       0        0     4.0            0          1          0           0   \n",
       "1       0        2     4.0            0          1          0           0   \n",
       "2       0        4     4.0            0          1          0           0   \n",
       "3       0       24     5.0            0          1          0           0   \n",
       "4       0       26     5.0            0          1          0           0   \n",
       "\n",
       "   (no genres listed)  Action  Adventure  ...  Film-Noir  Horror  IMAX  \\\n",
       "0                   0       0          1  ...          0       0     0   \n",
       "1                   0       0          0  ...          0       0     0   \n",
       "2                   0       1          0  ...          0       0     0   \n",
       "3                   0       0          0  ...          0       0     0   \n",
       "4                   0       0          0  ...          0       0     0   \n",
       "\n",
       "   Musical  Mystery  Romance  Sci-Fi  Thriller  War  Western  \n",
       "0        0        0        0       0         0    0        0  \n",
       "1        0        0        1       0         0    0        0  \n",
       "2        0        0        0       0         1    0        0  \n",
       "3        0        1        0       0         1    0        0  \n",
       "4        0        1        0       0         1    0        0  \n",
       "\n",
       "[5 rows x 27 columns]"
      ]
     },
     "execution_count": 389,
     "metadata": {},
     "output_type": "execute_result"
    }
   ],
   "source": [
    "pred_list = []\n",
    "for i in range(len(label_idx)):\n",
    "    row, col = label_idx[i]\n",
    "    pred_list.append(pred_matrix[row, col])\n",
    "featurized_matrix['matrix_completion_pred'] = pred_list"
   ]
  },
  {
   "cell_type": "markdown",
   "metadata": {},
   "source": [
    "## Training an Ensemble Model"
   ]
  },
  {
   "cell_type": "code",
   "execution_count": 410,
   "metadata": {},
   "outputs": [],
   "source": [
    "X = featurized_matrix.drop(columns=['userId', 'movieId', 'rating'])\n",
    "y = featurized_matrix['rating']\n",
    "X_train, X_test, y_train, y_test = train_test_split(X, y, test_size=0.3, random_state=123)"
   ]
  },
  {
   "cell_type": "code",
   "execution_count": 462,
   "metadata": {},
   "outputs": [
    {
     "data": {
      "text/plain": [
       "RandomForestRegressor(bootstrap=True, ccp_alpha=0.0, criterion='mae',\n",
       "                      max_depth=10, max_features='auto', max_leaf_nodes=None,\n",
       "                      max_samples=None, min_impurity_decrease=0.0,\n",
       "                      min_impurity_split=None, min_samples_leaf=4,\n",
       "                      min_samples_split=2, min_weight_fraction_leaf=0.0,\n",
       "                      n_estimators=10, n_jobs=None, oob_score=False,\n",
       "                      random_state=0, verbose=0, warm_start=False)"
      ]
     },
     "execution_count": 462,
     "metadata": {},
     "output_type": "execute_result"
    }
   ],
   "source": [
    "rf = RandomForestRegressor(max_depth=10, n_estimators=10, min_samples_split=2, min_samples_leaf=4, criterion='mae', random_state=0)\n",
    "rf.fit(X_train, y_train)\n"
   ]
  },
  {
   "cell_type": "code",
   "execution_count": 473,
   "metadata": {},
   "outputs": [
    {
     "data": {
      "text/plain": [
       "0.5472312223858615"
      ]
     },
     "execution_count": 473,
     "metadata": {},
     "output_type": "execute_result"
    }
   ],
   "source": [
    "pred = rf.predict(X_test)\n",
    "metrics.mean_absolute_error(pred, y_test)"
   ]
  },
  {
   "cell_type": "code",
   "execution_count": 415,
   "metadata": {},
   "outputs": [
    {
     "data": {
      "text/plain": [
       "RandomForestRegressor(bootstrap=True, ccp_alpha=0.0, criterion='mse',\n",
       "                      max_depth=10, max_features='auto', max_leaf_nodes=None,\n",
       "                      max_samples=None, min_impurity_decrease=0.0,\n",
       "                      min_impurity_split=None, min_samples_leaf=1,\n",
       "                      min_samples_split=2, min_weight_fraction_leaf=0.0,\n",
       "                      n_estimators=100, n_jobs=None, oob_score=False,\n",
       "                      random_state=0, verbose=0, warm_start=False)"
      ]
     },
     "execution_count": 415,
     "metadata": {},
     "output_type": "execute_result"
    }
   ],
   "source": [
    "regr = RandomForestRegressor(max_depth=10, random_state=0)\n",
    "regr.fit(X_train, y_train)"
   ]
  },
  {
   "cell_type": "code",
   "execution_count": 421,
   "metadata": {},
   "outputs": [
    {
     "data": {
      "text/plain": [
       "0.563092207501974"
      ]
     },
     "execution_count": 421,
     "metadata": {},
     "output_type": "execute_result"
    }
   ],
   "source": [
    "pred = regr.predict(X_test)\n",
    "metrics.mean_absolute_error(pred, y_test)"
   ]
  },
  {
   "cell_type": "code",
   "execution_count": 465,
   "metadata": {},
   "outputs": [
    {
     "data": {
      "text/plain": [
       "RandomForestRegressor(bootstrap=True, ccp_alpha=0.0, criterion='mae',\n",
       "                      max_depth=10, max_features='auto', max_leaf_nodes=None,\n",
       "                      max_samples=None, min_impurity_decrease=0.0,\n",
       "                      min_impurity_split=None, min_samples_leaf=4,\n",
       "                      min_samples_split=2, min_weight_fraction_leaf=0.0,\n",
       "                      n_estimators=20, n_jobs=None, oob_score=False,\n",
       "                      random_state=0, verbose=0, warm_start=False)"
      ]
     },
     "execution_count": 465,
     "metadata": {},
     "output_type": "execute_result"
    }
   ],
   "source": [
    "rf2 = RandomForestRegressor(max_depth=10, n_estimators=20, min_samples_split=2, min_samples_leaf=4, criterion='mae', random_state=0)\n",
    "rf2.fit(X_train, y_train)"
   ]
  },
  {
   "cell_type": "code",
   "execution_count": 467,
   "metadata": {},
   "outputs": [
    {
     "data": {
      "text/plain": [
       "0.546750736377025"
      ]
     },
     "execution_count": 467,
     "metadata": {},
     "output_type": "execute_result"
    }
   ],
   "source": [
    "pred = rf2.predict(X_test)\n",
    "metrics.mean_absolute_error(pred, y_test)"
   ]
  },
  {
   "cell_type": "code",
   "execution_count": 476,
   "metadata": {},
   "outputs": [
    {
     "data": {
      "text/plain": [
       "3.6230595893840762"
      ]
     },
     "execution_count": 476,
     "metadata": {},
     "output_type": "execute_result"
    }
   ],
   "source": [
    "np.mean(ratings_subset['rating'])"
   ]
  }
 ],
 "metadata": {
  "kernelspec": {
   "display_name": "Python 3",
   "language": "python",
   "name": "python3"
  },
  "language_info": {
   "codemirror_mode": {
    "name": "ipython",
    "version": 3
   },
   "file_extension": ".py",
   "mimetype": "text/x-python",
   "name": "python",
   "nbconvert_exporter": "python",
   "pygments_lexer": "ipython3",
   "version": "3.6.8"
  }
 },
 "nbformat": 4,
 "nbformat_minor": 2
}
